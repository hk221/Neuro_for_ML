{
 "cells": [
  {
   "cell_type": "markdown",
   "metadata": {},
   "source": [
    "# Coursework 1 - Synfire chains\n",
    "\n",
    "The aim of this coursework is to reproduce and extend the results of the following paper:\n",
    "\n",
    "[Diesmann et al (1999) \"Stable propagation of synchronous spiking in cortical neural networks\"](https://www.nature.com/articles/990101) ([pdf](http://www.honda-ri.de/pubs/pdf/1406.pdf))\n",
    "\n",
    "You can extend the code developed in the exercises in weeks 1 and 2.\n",
    "\n",
    "You will need to read the paper, paying particular attention to the Methods section, to understand what the model is. As is often the case in older scientific papers, no code is provided and not all the details needed are given. You will need to think and experiment a bit to fill in the gaps.\n",
    "\n",
    "You should submit your results as a Jupyter notebook that can be run on Google Colab. You should describe your code and results. Your code should be clear, and well commented, and your text should be clearly written and easy to follow. Remember, it will be assessed by 3 or more randomly selected individuals from the class. They will download and run your code, and if it does not work or they cannot understand it, you will get fewer marks.\n",
    "\n",
    "A more detailed, step-by-step guide follows."
   ]
  },
  {
   "cell_type": "markdown",
   "metadata": {},
   "source": [
    "## Task 1: implement a simulator for the model in the paper\n",
    "\n",
    "Your simulator should have the following features:\n",
    "\n",
    "1. Leaky integrate-and-fire neuron with alpha synapse acting on the current (note: not on the membrane potential). You should have two time constants, membrane time constant and alpha synapse time constant.\n",
    "2. Background noise as a Poisson process (see notes below).\n",
    "3. Refractoriness (see notes below).\n",
    "4. Initialisation with an input spike burst as described in the paper.\n",
    "5. All-to-all connectivity between layers. That is, each neuron in layer $i$ is connected to each neuron in layer $j$ (with the same weight).\n",
    "6. Delay between layers (so a spike in layer $i$ takes a fixed amount of time before arriving in layer $i+1$).\n",
    "\n",
    "You can build your simulator iteratively adding features as you verify the properties and reproduce the plots below. For task 2A, you only need feature (1). For task 2B you need features (1-3). For task 3 onwards you need all 6 features.\n",
    "\n",
    "Recommended approach: try to solve task 2A first using only a simulator with feature (1). Now add features (2-3) and solve task 2B. Once you've finished that, go back and check your code still works for taks 2A. Continue like this.\n",
    "\n",
    "### Poisson background noise\n",
    "\n",
    "You can implement Poisson background noise by computing the mean number of expected noise spikes in any time step (product of sum of input firing rates and time step size), and then at each time step drawing a random, Poisson distributed value with this mean. You can the ``poisson`` function imported above to do this. Note that in this case there are two populations of neurons, one excitatory and one inhibitory.\n",
    "\n",
    "### Refractoriness\n",
    "\n",
    "After a spike, the neuron shuts down (membrane potential stays at reset value and incoming spikes are ignored) for a period of time called the refractory period. You can implement this by tracking, for each neuron, the last time it spiked, and only adding spikes for neurons which haven't fired within the refractory period.\n",
    "\n",
    "### Suggested implementation\n",
    "\n",
    "* A function that simulates a single layer of the network, taking the output spikes of the previous layer as an input argument, and returning its own output spikes.\n",
    "* A function that generates spikes for an input burst in the same format as the input/output of the simulate layer function above."
   ]
  },
  {
   "cell_type": "code",
   "execution_count": 4,
   "metadata": {},
   "outputs": [],
   "source": [
    "# These imports should be enough to do everything in this coursework, but feel free to use others\n",
    "import numpy as np\n",
    "import matplotlib.pyplot as plt\n",
    "from numpy.random import poisson"
   ]
  },
  {
   "cell_type": "code",
   "execution_count": 135,
   "metadata": {},
   "outputs": [],
   "source": [
    "# Use this template and fill in the gaps where there is a ...\n",
    "def simulate_layer(\n",
    "    num_neurons=None, num_time_steps=None, spikes_in=None, noise=True, delay=5\n",
    "):\n",
    "    if spikes_in is None and (num_neurons is None or num_time_steps is None):\n",
    "        raise ValueError(\n",
    "            \"You need to specify either spikes_in or num_neurons and num_time_steps\"\n",
    "        )\n",
    "    if spikes_in is not None:\n",
    "        num_neurons, num_time_steps = spikes_in.shape\n",
    "    # a*0.14 -> height of spike\n",
    "    ### Parameters\n",
    "    dt = 0.1  # Time step in ms\n",
    "    v_rest = -70.0  # Resting membrane potential in mV\n",
    "    v_threshold = -55.0  # Threshold potential in mV\n",
    "    v_reset = -70.0  # Reset potential after a spike in mV\n",
    "    # rate_exc = 2.0  # Firing rate for excitatory neurons in Hz\n",
    "    # rate_inh = 12.5  # Firing rate for inhibitory neurons in Hz\n",
    "    #tau = 10\n",
    "    alpha_synapse = 0.40 # Alpha function decay \n",
    "    membrane_time_constant = 10.0  # Membrane time constant\n",
    "    abs_refractory = 2.0 # Absolute refractory period in ms\n",
    "    #noise_rate = 2.0 * dt  # Background noise rate in Hz\n",
    "    W = 4.0  # Membrane resistance in GOhm\n",
    "    \n",
    "    if spikes_in is None:\n",
    "        spikes_in = np.zeros((num_neurons, num_time_steps))\n",
    "\n",
    "    ### Setup the simulation\n",
    "    v = np.full(num_neurons, v_rest)  # Initialize membrane potential at resting\n",
    "    x = np.zeros(num_neurons)  # Synaptic variable representing rising phase\n",
    "    y = np.zeros(num_neurons)\n",
    "    t_last = np.full(num_neurons, abs_refractory - 1)  # Last spike time placeholder\n",
    "\n",
    "    # Record acti-vity\n",
    "    v_rec = np.zeros((num_neurons, num_time_steps))\n",
    "    spikes_out = np.zeros((num_neurons, num_time_steps))\n",
    "\n",
    "    # Apply input delay\n",
    "    delayed_spikes_in = np.roll(spikes_in, delay, axis=1)\n",
    "\n",
    "    # Generate background noise\n",
    "    #if noise:\n",
    "        #noise_spikes = poisson(noise_rate, (num_neurons, num_time_steps))\n",
    "        #delayed_spikes_in += noise_spikes\n",
    "\n",
    "    ### Run simulation\n",
    "    for t_idx in range(num_time_steps):\n",
    "        t = t_idx * dt  # Current time in ms\n",
    "\n",
    "        # Synaptic current updates (alpha synapse)\n",
    "        dx_dt = (y - x) / alpha_synapse\n",
    "        dy_dt = -y / alpha_synapse\n",
    "        x += dx_dt * dt\n",
    "        y += dy_dt * dt + delayed_spikes_in[:, t_idx]\n",
    "\n",
    "        # Update membrane potential\n",
    "        dv_dt = (W * x - (v - v_rest)) / membrane_time_constant\n",
    "        v += dv_dt * dt\n",
    "\n",
    "        # Absolute refractory period check\n",
    "        #neurons_in_refractory = (t - t_last) < abs_refractory\n",
    "        #v[neurons_in_refractory] = v_reset\n",
    "\n",
    "        # Check for spiking neurons\n",
    "        spiking_neurons = v >= v_threshold\n",
    "        spikes_out[spiking_neurons, t_idx] = 1  # Record spike\n",
    "        v[spiking_neurons] = v_reset  # Reset spiking neurons\n",
    "        t_last[spiking_neurons] = t  # Update last spike time\n",
    "\n",
    "        # Record membrane potential\n",
    "        v_rec[:, t_idx] = v\n",
    "\n",
    "    return v_rec, spikes_out\n",
    "\n",
    "\n",
    "def input_burst(\n",
    "    num_neurons=100, num_active=50, offset=0, sigma=0, num_time_steps=700, dt=0.1\n",
    "):\n",
    "    spikes = np.zeros((num_neurons, num_time_steps))\n",
    "    # ...\n",
    "    active_neurons = np.random.choice(num_neurons, num_active, replace=False)\n",
    "    spike_times = np.random.normal(loc=offset, scale=sigma, size=num_active).astype(int)\n",
    "    for neuron, spike_time in zip(active_neurons, spike_times):\n",
    "        if 0 <= spike_time < num_time_steps:\n",
    "            spikes[neuron, spike_time] = 1\n",
    "    return spikes\n",
    "\n",
    "\n",
    "# How might you use this function?\n",
    "def all_to_all(spikes, n_out=None):\n",
    "    s = spikes.sum(axis=0)[None, :]\n",
    "    if n_out is None:\n",
    "        n_out = spikes.shape[0]\n",
    "    return np.repeat(s, n_out, axis=0)"
   ]
  },
  {
   "cell_type": "markdown",
   "metadata": {},
   "source": [
    "## Task 2: validate neuron, synapse and network properties\n",
    "\n",
    "### Task 2A: validate postsynaptic potential\n",
    "\n",
    "Write down the differential equations for your model.\n",
    "\n",
    "Verify that you have implemented the neuron and synapse model correctly by feeding it a single input spike, plotting the membrane potential (postsynaptic potential, PSP) and checking that the time to peak, and peak value are as given in the paper. It doesn't have to be absolutely perfect, just close enough."
   ]
  },
  {
   "cell_type": "code",
   "execution_count": 136,
   "metadata": {},
   "outputs": [
    {
     "name": "stdout",
     "output_type": "stream",
     "text": [
      "Alpha PSP verification\n",
      "  Maximum of PSP is 0.1383 and should be 0.14\n",
      "  Maximum is attained at time 1.70 and should be 1.70\n",
      "\n"
     ]
    },
    {
     "data": {
      "image/png": "[encoded data removed]",
      "text/plain": [
       "<Figure size 640x480 with 1 Axes>"
      ]
     },
     "metadata": {},
     "output_type": "display_data"
    }
   ],
   "source": [
    "# Use this template and fill in the ...\n",
    "# Verify synapse properties with no background noise and single input spike\n",
    "s_in = np.zeros((1, 100))  # duration 10ms\n",
    "s_in[0, 10] = 1  # single input spike at time t=1ms\n",
    "v, s = simulate_layer(spikes_in=s_in, noise=False, delay=0)\n",
    "# normalise the peak\n",
    "v -= v.min()\n",
    "plt.figure()\n",
    "plt.plot(v[0, :])\n",
    "plt.xlabel(\"Time step\")\n",
    "plt.ylabel(\"Normalised membrane potential\")\n",
    "plt.tight_layout()\n",
    "print(\"Alpha PSP verification\")\n",
    "print(\n",
    "    f\"  Maximum of PSP is {v.max():.4f} and should be 0.14\"\n",
    ")  # what is the correct value for ...?\n",
    "print(\n",
    "    f\"  Maximum is attained at time {(v.argmax()-10)*0.1:.2f} and should be 1.70\"\n",
    ")  # what is the correct value for ...?\n",
    "print()"
   ]
  },
  {
   "cell_type": "markdown",
   "metadata": {},
   "source": [
    "Expected results:\n",
    "\n",
    "![Expected results](result_2a.png)"
   ]
  },
  {
   "cell_type": "markdown",
   "metadata": {},
   "source": [
    "### Task 2B: validate background noise\n",
    "\n",
    "Verify that in the absence of any input spikes, neurons in the network fire noise spikes at approximately the rate given in the paper, and that the mean and standard deviation of the membrane potential is as given in the paper. Plot the output spikes and 5 membrane potentials to check that the results seem sensible."
   ]
  },
  {
   "cell_type": "code",
   "execution_count": 132,
   "metadata": {},
   "outputs": [
    {
     "ename": "SyntaxError",
     "evalue": "invalid syntax. Perhaps you forgot a comma? (2683627570.py, line 19)",
     "output_type": "error",
     "traceback": [
      "\u001b[0;36m  Cell \u001b[0;32mIn[132], line 19\u001b[0;36m\u001b[0m\n\u001b[0;31m    print(f'  Membrane potential std is {v.std():.2f}, should be '...) # ...\u001b[0m\n\u001b[0m          ^\u001b[0m\n\u001b[0;31mSyntaxError\u001b[0m\u001b[0;31m:\u001b[0m invalid syntax. Perhaps you forgot a comma?\n"
     ]
    }
   ],
   "source": [
    "# Verify background noise gives appropriate level of output noise\n",
    "v, s = simulate_layer(num_neurons=1000, num_time_steps=1000)\n",
    "i, t = s.nonzero()\n",
    "t = t*0.1 # dt\n",
    "plt.figure(figsize=(10, 5))\n",
    "plt.subplot(211)\n",
    "plt.plot(t, i, '.k')\n",
    "plt.xlabel('Time (ms)')\n",
    "plt.ylabel('Neuron index')\n",
    "plt.subplot(212)\n",
    "plt.plot(np.arange(1000)*0.1, v[:5, :1000].T)\n",
    "plt.xlabel('Time (ms)')\n",
    "plt.ylabel('Normalised membrane potential')\n",
    "plt.tight_layout()\n",
    "print('Background firing rate verification')\n",
    "# TODO: Fill in the ... values below\n",
    "print(f'  Mean rate is {s.sum()/(1000*1000*0.1*1e-3):.1f} Hz, should be ...') # ...\n",
    "print(f'  Membrane potential mean is {v.mean():.2f}, should be ...') # ...\n",
    "print(f'  Membrane potential std is {v.std():.2f}, should be '...) # ..."
   ]
  },
  {
   "cell_type": "markdown",
   "metadata": {},
   "source": [
    "Expected results:\n",
    "\n",
    "![Expected results](results_2b.png)"
   ]
  },
  {
   "cell_type": "markdown",
   "metadata": {},
   "source": [
    "## Task 3: reproduce figures 1d and 1e from the paper\n",
    "\n",
    "The plotting doesn't have to be perfect, but it should be recognisably similar to the paper."
   ]
  },
  {
   "cell_type": "code",
   "execution_count": null,
   "metadata": {},
   "outputs": [],
   "source": [
    "# Verify figure 1d,e\n",
    "# TODO: Fill in missing value\n",
    "# num_neurons = ...\n",
    "plt.figure(figsize=(8, 4))\n",
    "# TODO: Fill in missing value\n",
    "# a_values = [...]\n",
    "for plotidx, a in enumerate(a_values):\n",
    "    s = input_burst(num_neurons=num_neurons, num_active=a)\n",
    "    plt.subplot(1, 2, plotidx + 1)\n",
    "    for layer in range(10):\n",
    "        # TODO: Add something here to represent the effect of the all-to-all spike connection\n",
    "        #       Or incorporate into the simulate_layer function\n",
    "        # s_accumulated = ...\n",
    "        _, s = simulate_layer(spikes_in=s_accumulated)\n",
    "        i, t = s.nonzero()\n",
    "        plt.plot(t * 0.1, i / 100 + 9 - layer, \",k\")\n",
    "        plt.axhline(layer, c=\"k\")\n",
    "    plt.ylim(0, 10)\n",
    "    plt.yticks(np.arange(10) + 0.5, np.arange(1, 11)[::-1])\n",
    "    plt.xlabel(\"Time (ms)\")\n",
    "    plt.ylabel(\"Group\")\n",
    "plt.suptitle(\"Figure 1 d,e\")\n",
    "plt.tight_layout()"
   ]
  },
  {
   "cell_type": "markdown",
   "metadata": {},
   "source": [
    "Expected results (may not be exactly the same each time you run):\n",
    "\n",
    "![Expected results](result_3.png)"
   ]
  },
  {
   "cell_type": "markdown",
   "metadata": {},
   "source": [
    "## Task 4: reproduce figures 2c and 2d\n",
    "\n",
    "In this case, the paper is lacking a lot of detail in how to estimate the probability and spread of an output spike. You are unlikely to be able to perfectly reproduce the output, but you should be able to get something similar and justify your results, or explain why you think the paper got it wrong if you disagree."
   ]
  },
  {
   "cell_type": "code",
   "execution_count": null,
   "metadata": {},
   "outputs": [],
   "source": [
    "# TODO: Fill in all the ... below\n",
    "# Your implementation of estimate_pulse_parameters might need additional arguments depending how you implement it\n",
    "\n",
    "# Verify figure 2c,d\n",
    "def estimate_pulse_parameters(s): # you can change the arguments to this function if you need\n",
    "    # Now we want to estimate the number of spikes caused and their spread.\n",
    "    # alpha = probability of an output spike = number of output spikes / number of neurons\n",
    "    # sigma_out = spread (in ms) of output spikes caused by the pulse\n",
    "    return alpha, sigma_out\n",
    "\n",
    "def neural_transmission(a_in, sigma_in, repeats=1000, dt=0.1):\n",
    "    # We put in a burst of a_in spikes with spread sigma_in\n",
    "    s = input_burst(num_neurons=a_in, num_active=a_in, sigma=sigma_in, ...)\n",
    "    # Run the simulation for one layer\n",
    "    _, s = simulate_layer(...)\n",
    "    return estimate_pulse_parameters(s)\n",
    "\n",
    "plt.figure(figsize=(8, 4))\n",
    "plt.subplot(121)\n",
    "for sigma in [0, 1, 3, 5]:\n",
    "    A_IN = np.arange(0, 150+1, 10)\n",
    "    ALPHA = [neural_transmission(a_in, sigma)[0] for a_in in A_IN]\n",
    "    plt.plot(A_IN, ALPHA, label=f'$\\\\sigma_{{in}}={sigma}$ ms')\n",
    "plt.xlabel(r'$a_{in}$ (spikes)')\n",
    "plt.ylabel(r'$\\alpha$')\n",
    "plt.legend(loc='best')\n",
    "plt.subplot(122)\n",
    "for a_in in [45, 65, 105, 145]:\n",
    "    SIGMA_IN = np.linspace(0, 5, 15)\n",
    "    SIGMA_OUT = [neural_transmission(a_in, sigma_in)[1] for sigma_in in SIGMA_IN]\n",
    "    plt.plot(SIGMA_IN, SIGMA_OUT, label=f'$a_{{in}}={a_in}$ ms')\n",
    "plt.plot([0, 5], [0, 5], ls='--', c='grey', zorder=-1)\n",
    "plt.xlabel(r'$\\sigma_{in}$ (ms)')\n",
    "plt.ylabel(r'$\\sigma_{out}$ (ms)')\n",
    "plt.legend(loc='best')\n",
    "plt.suptitle('Figure 2 c, d')\n",
    "plt.tight_layout();"
   ]
  },
  {
   "cell_type": "markdown",
   "metadata": {},
   "source": [
    "Expected results (as you can see, not exactly the same as in the paper which I couldn't reproduce perfectly):\n",
    "\n",
    "![Expected results](result_4.png)"
   ]
  },
  {
   "cell_type": "markdown",
   "metadata": {},
   "source": [
    "## Task 5: reproduce figure 3c\n",
    "\n",
    "It is sufficient to plot some of the trajectories, and not the separatrix (dashed line)."
   ]
  },
  {
   "cell_type": "code",
   "execution_count": null,
   "metadata": {},
   "outputs": [],
   "source": [
    "# TODO: Replace the ... below\n",
    "# Validation figure 3c\n",
    "starting_points = [...]\n",
    "repeats = ...\n",
    "layersize = ...\n",
    "for idx, (a, sigma) in enumerate(starting_points):\n",
    "    A, SIGMA = [a], [sigma]\n",
    "    for _ in range(10):\n",
    "        # ... code that updates values of a, sigma\n",
    "        A.append(a)\n",
    "        SIGMA.append(sigma)\n",
    "    plt.plot(SIGMA, A, c=f\"C{idx}\")\n",
    "    for i in range(len(SIGMA) - 1):\n",
    "        plt.annotate(\n",
    "            \"\",\n",
    "            (SIGMA[i + 1], A[i + 1]),\n",
    "            xytext=(SIGMA[i], A[i]),\n",
    "            arrowprops=dict(arrowstyle=\"->\", shrinkA=0, shrinkB=0, color=f\"C{idx}\"),\n",
    "        )\n",
    "plt.xlim(0, 3)\n",
    "plt.ylim(0, 100)\n",
    "plt.xlabel(r\"$\\sigma$ (ms)\")\n",
    "plt.ylabel(\"$a$ (spikes)\")\n",
    "plt.title(\"Figure 3c\")\n",
    "plt.tight_layout()"
   ]
  },
  {
   "cell_type": "markdown",
   "metadata": {},
   "source": [
    "Expected results:\n",
    "\n",
    "![Expected results](result_5.png)"
   ]
  },
  {
   "cell_type": "markdown",
   "metadata": {},
   "source": [
    "## Task 6 (optional extra credit)\n",
    "\n",
    "It is possible to obtain a first class grade from the parts above. This part is for extra credit.\n",
    "\n",
    "Investigate some aspect of the model that you think is interesting and is not covered in the paper. Explain why you think it's interesting and present your results coherently.\n",
    "\n",
    "Some ideas (but feel free to use your own):\n",
    "* Do the results depend on the choice of model parameters given in the paper? How precisely?\n",
    "* Do the results depend on the choice of synapse model in the paper?\n",
    "* Do the results depend on all-to-all connectivity between layers?"
   ]
  }
 ],
 "metadata": {
  "kernelspec": {
   "display_name": "base",
   "language": "python",
   "name": "python3"
  },
  "language_info": {
   "codemirror_mode": {
    "name": "ipython",
    "version": 3
   },
   "file_extension": ".py",
   "mimetype": "text/x-python",
   "name": "python",
   "nbconvert_exporter": "python",
   "pygments_lexer": "ipython3",
   "version": "3.10.13"
  }
 },
 "nbformat": 4,
 "nbformat_minor": 2
}
